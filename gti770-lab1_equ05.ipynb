{
 "cells": [
  {
   "cell_type": "code",
   "execution_count": 87,
   "metadata": {},
   "outputs": [
    {
     "name": "stdout",
     "output_type": "stream",
     "text": [
      "CrossVal Score de :Arbe de décision max_depth = None\n",
      "[0.93333333 0.96666667 0.86666667 0.93333333 0.86666667]\n",
      "\n",
      "\n",
      "CrossVal Score de :Arbe de décision max_depth = 2\n",
      "[0.93333333 1.         0.86666667 0.93333333 1.        ]\n",
      "\n",
      "\n",
      "CrossVal Score de :Arbe de décision max_depth = 3\n",
      "[0.93333333 1.         0.86666667 0.93333333 1.        ]\n",
      "\n",
      "\n",
      "CrossVal Score de :Arbe de décision max_depth = 4\n",
      "[0.93333333 1.         0.86666667 0.93333333 0.93333333]\n",
      "\n",
      "\n",
      "CrossVal Score de :Arbe de décision max_depth = 5\n",
      "[0.96666667 0.96666667 0.86666667 0.93333333 0.93333333]\n",
      "\n",
      "\n",
      "CrossVal Score de :Arbe de décision max_depth = 10\n",
      "[0.96666667 0.96666667 0.86666667 0.93333333 0.9       ]\n",
      "\n",
      "\n"
     ]
    }
   ],
   "source": [
    "#Import des libraries necessaires\n",
    "from skimage import io, novice\n",
    "\n",
    "from sklearn.datasets import load_iris\n",
    "from sklearn.model_selection import cross_val_score\n",
    "from sklearn import tree\n",
    "\n",
    "from sklearn.metrics import accuracy_score, confusion_matrix\n",
    "\n",
    "import numpy as np\n",
    "\n",
    "\n",
    "# Creation de nos arbres de decision en utilisant l'entropie et un max_depth variable\n",
    "desTree1 = tree.DecisionTreeClassifier(criterion='entropy')\n",
    "desTree2 = tree.DecisionTreeClassifier(criterion='entropy', max_depth=2)\n",
    "desTree3 = tree.DecisionTreeClassifier(criterion='entropy', max_depth=3)\n",
    "desTree4 = tree.DecisionTreeClassifier(criterion='entropy', max_depth=4)\n",
    "desTree5 = tree.DecisionTreeClassifier(criterion='entropy', max_depth=5)\n",
    "desTree6 = tree.DecisionTreeClassifier(criterion='entropy', max_depth=10)\n",
    "\n",
    "destrees = []\n",
    "destrees.append({'tree': desTree1, \n",
    "                'label': \"Arbe de décision max_depth = None\"})\n",
    "destrees.append({'tree': desTree2, \n",
    "                'label': \"Arbe de décision max_depth = 2\"})\n",
    "destrees.append({'tree': desTree3, \n",
    "                'label': \"Arbe de décision max_depth = 3\"})\n",
    "destrees.append({'tree': desTree4, \n",
    "                'label': \"Arbe de décision max_depth = 4\"})\n",
    "destrees.append({'tree': desTree5, \n",
    "                'label': \"Arbe de décision max_depth = 5\"})\n",
    "destrees.append({'tree': desTree6, \n",
    "                'label': \"Arbe de décision max_depth = 10\"})\n",
    "\n",
    "# Chargement des donnees\n",
    "iris = load_iris()\n",
    "\n",
    "for element in destrees:\n",
    "    # Apprentissage avec la fonction train\n",
    "    # iris.data[:, :3] veut dire qu'on utilise la totalite des \"rows\" et seulement 3 colonnes [:, 3]\n",
    "    # pour utiliser seulement 3 \"rows\" et la totalite des colonnes on utilise [:3, :]\n",
    "    element['tree'] = element['tree'].fit(iris.data[:, :3], iris.target)\n",
    "\n",
    "    #CrossVal Score\n",
    "    print(\"CrossVal Score de :\" + element['label'])\n",
    "    print(cross_val_score(element['tree'], iris.data[:, :3], iris.target, cv=5))\n",
    "    print('\\n')\n",
    "\n",
    "\n"
   ]
  },
  {
   "cell_type": "code",
   "execution_count": null,
   "metadata": {},
   "outputs": [],
   "source": []
  }
 ],
 "metadata": {
  "kernelspec": {
   "display_name": "Python 3",
   "language": "python",
   "name": "python3"
  },
  "language_info": {
   "codemirror_mode": {
    "name": "ipython",
    "version": 3
   },
   "file_extension": ".py",
   "mimetype": "text/x-python",
   "name": "python",
   "nbconvert_exporter": "python",
   "pygments_lexer": "ipython3",
   "version": "3.6.6"
  }
 },
 "nbformat": 4,
 "nbformat_minor": 2
}
